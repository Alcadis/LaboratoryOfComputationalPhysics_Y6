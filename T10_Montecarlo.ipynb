{
 "cells": [
  {
   "cell_type": "code",
   "execution_count": 1,
   "id": "27816dad",
   "metadata": {},
   "outputs": [],
   "source": [
    "import numpy as np\n",
    "import pandas as pd\n",
    "from scipy import stats\n",
    "\n",
    "import matplotlib.pyplot as plt\n",
    "import seaborn as sns"
   ]
  },
  {
   "cell_type": "code",
   "execution_count": null,
   "id": "72314c00",
   "metadata": {},
   "outputs": [],
   "source": [
    "# PSEUDONUMBER GENERATOR\n",
    "# LINEAR CONGRUENTIAL GENERATOR (recursive and deterministic relation)\n",
    "$$\n",
    "z_{i+1}=(a z_i+c)\\mod{m}\n",
    "$$\n",
    "\n",
    "#Hull-Dobell Theorem: The LCG will have a period $m$ for all seeds if and only if\n",
    "\n",
    "* $c$ and $m$ are relatively prime,\n",
    "* $a−1$ is divisible by all prime factors of $m$\n",
    "* $a−1$ is a multiple of 4 if $m$ is a multiple of $4$."
   ]
  }
 ],
 "metadata": {
  "kernelspec": {
   "display_name": "Python 3 (ipykernel)",
   "language": "python",
   "name": "python3"
  },
  "language_info": {
   "codemirror_mode": {
    "name": "ipython",
    "version": 3
   },
   "file_extension": ".py",
   "mimetype": "text/x-python",
   "name": "python",
   "nbconvert_exporter": "python",
   "pygments_lexer": "ipython3",
   "version": "3.11.5"
  }
 },
 "nbformat": 4,
 "nbformat_minor": 5
}
