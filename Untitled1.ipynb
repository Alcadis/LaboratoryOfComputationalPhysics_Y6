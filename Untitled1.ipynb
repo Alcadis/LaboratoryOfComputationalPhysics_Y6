{
 "cells": [
  {
   "cell_type": "code",
   "execution_count": null,
   "id": "8fc20225",
   "metadata": {},
   "outputs": [],
   "source": [
    "#Monte Carlo\n",
    "N = 1000000\n",
    "x = np.random.uniform(-1.0,1.0,size=N)\n",
    "y = np.random.uniform(-1.0,1.0,size=N)\n",
    "distance = x**2+y**2\n",
    "points_inside = len(distance[np.sqrt(distance)<=1])\n",
    "area = 4*(points_inside/N)\n",
    "print(\"Area of the circle: \",area)\n",
    "\n",
    "# 10D Monte Carlo\n",
    "def nSphereVolume(dim, N):\n",
    "    point = np.random.uniform(-1.0, 1.0, size=[N,dim])\n",
    "    distance = np.apply_along_axis(np.linalg.norm, 1, point)\n",
    "    count_in_sphere = len(distance[distance<=1])\n",
    "    return np.power(2.0, dim) * (count_in_sphere / N)\n",
    "\n",
    "print(\"Volume of a 10D sphere: \",nSphereVolume(10, 100000))\n",
    "print(\"Area of a circle: \", nSphereVolume(2,100000))"
   ]
  },
  {
   "cell_type": "code",
   "execution_count": null,
   "id": "22f02741",
   "metadata": {},
   "outputs": [],
   "source": [
    "def f(x):\n",
    "    return x**-0.5/(np.exp(x)+1)\n",
    "\n",
    "def w(x):\n",
    "    return np.sqrt(x)**-1\n",
    "\n",
    "def inv_transform(x):\n",
    "    return np.square(x)/4\n",
    "\n",
    "n = int(1e6)\n",
    "x = np.random.uniform(0,2,size=n)\n",
    "ws = inv_transform(x)\n",
    "I = (np.sum(f(ws)/w(ws))*2)/n\n",
    "\n",
    "print(np.round((I),2))"
   ]
  }
 ],
 "metadata": {
  "kernelspec": {
   "display_name": "Python 3 (ipykernel)",
   "language": "python",
   "name": "python3"
  },
  "language_info": {
   "codemirror_mode": {
    "name": "ipython",
    "version": 3
   },
   "file_extension": ".py",
   "mimetype": "text/x-python",
   "name": "python",
   "nbconvert_exporter": "python",
   "pygments_lexer": "ipython3",
   "version": "3.11.4"
  }
 },
 "nbformat": 4,
 "nbformat_minor": 5
}
