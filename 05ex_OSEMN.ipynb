{
 "cells": [
  {
   "cell_type": "markdown",
   "metadata": {},
   "source": [
    "# OSEMN Exercises"
   ]
  },
  {
   "cell_type": "code",
   "execution_count": 2,
   "metadata": {},
   "outputs": [],
   "source": [
    "%matplotlib inline\n",
    "import pandas as pd\n",
    "import numpy as np\n",
    "import csv\n",
    "import json"
   ]
  },
  {
   "cell_type": "markdown",
   "metadata": {},
   "source": [
    "1\\. Create a random list of number and then save it to a text file named \"simple_data.txt\""
   ]
  },
  {
   "cell_type": "code",
   "execution_count": 18,
   "metadata": {},
   "outputs": [
    {
     "name": "stdout",
     "output_type": "stream",
     "text": [
      "[0.89176509 0.66410791 0.43493383 0.5615054  0.41134902 0.34763754\n",
      " 0.36733023 0.37545404 0.43253632 0.11742516 0.41664228 0.94729114\n",
      " 0.86628142 0.75672423 0.37404617 0.30278334 0.88480541 0.50186504\n",
      " 0.92919155 0.02733495 0.86303654 0.63950248 0.95755717 0.64550867\n",
      " 0.17232427 0.49429511 0.34393134 0.43215531 0.60170726 0.44531365\n",
      " 0.61145572 0.63469578 0.82273065 0.04951588 0.27189045 0.34912523\n",
      " 0.05835244 0.17157571 0.39114626 0.88377062 0.90005928 0.83163955\n",
      " 0.98623989 0.93748374 0.03040637 0.62749452 0.25083505 0.48775781\n",
      " 0.21898807 0.90491793]\n"
     ]
    }
   ],
   "source": [
    "num = np.random.random(50) #con random accetta un solo argomento che è il numero di elementi \n",
    "print(num)\n",
    "data = np.savetxt(\"simple_data.txt\", num)"
   ]
  },
  {
   "cell_type": "markdown",
   "metadata": {},
   "source": [
    "2\\. Create a random matrix of 5x5 and then save it to a text file named \"data.txt\""
   ]
  },
  {
   "cell_type": "code",
   "execution_count": 29,
   "metadata": {},
   "outputs": [
    {
     "name": "stdout",
     "output_type": "stream",
     "text": [
      "[[0.76939426 0.05640964 0.24628612 0.75707713 0.72239074]\n",
      " [0.12058299 0.19795794 0.45011822 0.34322617 0.42483252]\n",
      " [0.10960912 0.45530955 0.73560982 0.03131404 0.04864228]\n",
      " [0.04821642 0.27732275 0.7905604  0.72570656 0.2330473 ]\n",
      " [0.99601868 0.10660576 0.85759692 0.93056285 0.41520641]]\n"
     ]
    }
   ],
   "source": [
    "matrix = np.random.rand(5,5) #con rand posso mettere la dimensione della matrice come argomento\n",
    "print(matrix)\n",
    "matrix = np.savetxt(\"data.txt\", matrix)"
   ]
  },
  {
   "cell_type": "markdown",
   "metadata": {},
   "source": [
    "3\\. Load the saved txt file of point 2 and convert it to a csv file (by hand)"
   ]
  },
  {
   "cell_type": "code",
   "execution_count": 30,
   "metadata": {},
   "outputs": [],
   "source": [
    "matrix = np.loadtxt(\"data.txt\")\n",
    "data = matrix.tolist() #converto da array a lista\n",
    "\n",
    "with open(\"data.csv\", \"w\") as csvfile: #apro un file csv da modificare\n",
    "    writer = csv.writer(csvfile) #creo un writer object\n",
    "    writer.writerows(data) #scrivo sul csv il contenuto delle righe di data"
   ]
  },
  {
   "cell_type": "markdown",
   "metadata": {},
   "source": [
    "4\\. load the binary file named *credit_card.dat* and convert the data into the real credit-card number.\n",
    "Each line correspond to a credit card number.\n",
    "Each character is composed by 6 bit (even the space) and the last 4 bit are just a padding\n",
    "\n",
    "**hint**: use the `chr()` function to convert a number to a char"
   ]
  },
  {
   "cell_type": "code",
   "execution_count": 6,
   "metadata": {},
   "outputs": [
    {
     "name": "stdout",
     "output_type": "stream",
     "text": [
      "['7648 5673 3775 2271', '3257 8247 3354 2266', '2722 0001 4011 6652', '0661 3063 3742 3150', '0432 1608 1462 4742', '5827 2027 8785 7303', '5774 8528 2087 1117', '8140 1210 6352 2845', '5764 1133 7301 7100', '6456 1737 4126 6726', '1228 8631 7382 0000', '7051 0160 5374 3166', '0618 3587 1630 6376', '1545 5454 7444 5636', '6735 3116 3202 6834', '7287 5011 1547 8413', '7033 2607 3328 4200', '2568 5244 1874 5024', '1684 2253 7570 7118', '0672 2576 0575 6631', '6332 8353 8787 1340', '1813 3361 1175 4211', '2477 6450 8840 2368', '5512 3505 2563 1326', '3083 7882 0621 0025', '4521 5148 8045 0334', '7563 3654 8713 5787', '8324 2664 0476 5561', '0565 2504 7168 3510', '5107 5507 1767 0738', '2462 1821 2448 1443', '2788 0638 6861 6554', '5851 5873 5474 0547', '0670 1004 4013 2655', '5874 5506 3048 0806', '2805 5401 8462 1260', '5083 8406 6310 1862', '1076 1445 3013 2266', '8440 4804 4844 5277', '4758 6141 0686 1387', '7586 0675 0315 2568', '2544 1258 7432 5165', '3474 5023 4434 5626', '1410 0270 0434 5086', '7315 4446 1104 4215', '0224 7742 8300 0266', '0170 2700 3145 0640', '2006 2437 8054 1600', '8142 4055 1776 0026', '3026 7380 1241 1084', '']\n"
     ]
    }
   ],
   "source": [
    "card_list = []\n",
    "with open(\"credit_card.dat\", \"r\") as file:\n",
    "    for line in file:\n",
    "        line = line.strip()[:-4]\n",
    "        card_number = \"\"\n",
    "        for i in range(0, len(line), 6):\n",
    "            extract = line[i:i+6]\n",
    "            card_number += chr(int(extract, 2))\n",
    "        card_list.append(card_number)\n",
    "print(card_list)"
   ]
  },
  {
   "cell_type": "markdown",
   "metadata": {},
   "source": [
    "5\\. Load the file \"user_data.json\", filter the data by the \"CreditCardType\" field equals to \"American Express\". Than save the data a to CSV."
   ]
  },
  {
   "cell_type": "code",
   "execution_count": null,
   "metadata": {},
   "outputs": [],
   "source": [
    "def filter_and_save_users('user_data.json', csv):\n",
    "    with open('user_data.json', 'r') as file: #carico il file json\n",
    "        data = json.load(file)\n",
    "    filtered_data = [user for user in data if user['CreditCardType'] == 'American Express']\n",
    "    #filtro per tutti gli user \"CreditCardType\" == \"American Express\"\n",
    "    if filtered_data: #faccio l'if per cominciare a salvare i dati nuovi nel csv\n",
    "        keys = filtered_data[0].keys()  #prendo il nome del campo dal primo \n",
    "        with open(csv, 'w', newline='') as csvfile:\n",
    "            writer = csv.DictWriter(csvfile, fieldnames=keys)\n",
    "            writer.writeheader()\n",
    "            writer.writerows(filtered_data)\n",
    "            \n",
    "filter_and_save_users('path_to_json/user_data.json', 'path_to_csv/filtered_data.csv')"
   ]
  },
  {
   "cell_type": "markdown",
   "metadata": {},
   "source": [
    "6\\. Load the file from this url: [https://www.dropbox.com/s/7u3lm737ogbqsg8/mushrooms_categorized.csv?dl=1](https://www.dropbox.com/s/7u3lm737ogbqsg8/mushrooms_categorized.csv?dl=1) with Pandas. \n",
    "+ Explore the data (see the info of the data)\n",
    "+ Draw the istogram of the 'class' field. Decribe wath yuou see\n"
   ]
  },
  {
   "cell_type": "markdown",
   "metadata": {},
   "source": [
    "7\\. Load the remote file [https://www.dropbox.com/s/vkl89yce7xjdq4n/regression_generated.csv?dl=1](https://www.dropbox.com/s/vkl89yce7xjdq4n/regression_generated.csv?dl=1) with Pandas and plot a scatter plot all possible combination of the following fields:\n",
    "    \n",
    "  + features_1\n",
    "  + features_2\n",
    "  + features_3"
   ]
  },
  {
   "cell_type": "markdown",
   "metadata": {},
   "source": [
    "8\\. Load the same file of point 6, and convert the file to json with Pandas."
   ]
  }
 ],
 "metadata": {
  "kernelspec": {
   "display_name": "Python 3 (ipykernel)",
   "language": "python",
   "name": "python3"
  },
  "language_info": {
   "codemirror_mode": {
    "name": "ipython",
    "version": 3
   },
   "file_extension": ".py",
   "mimetype": "text/x-python",
   "name": "python",
   "nbconvert_exporter": "python",
   "pygments_lexer": "ipython3",
   "version": "3.11.5"
  }
 },
 "nbformat": 4,
 "nbformat_minor": 2
}
