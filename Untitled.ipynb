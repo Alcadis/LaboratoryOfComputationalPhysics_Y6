{
 "cells": [
  {
   "cell_type": "code",
   "execution_count": 13,
   "id": "c95a5a94",
   "metadata": {},
   "outputs": [],
   "source": [
    "import numpy as np\n",
    "import matplotlib.pyplot as plt\n",
    "from scipy import stats"
   ]
  },
  {
   "cell_type": "code",
   "execution_count": null,
   "id": "36beb56b",
   "metadata": {},
   "outputs": [],
   "source": [
    "def generate_gaussian_dataset(categories, points, means, stds):\n",
    "    data = [] #apro la lista per i dati\n",
    "    labels = [] #apro la lista per le labels\n",
    "    for i in range(categories): #itera per ogni categoria\n",
    "        category_data = np.random.normal(means[i], stds[i], (points, 2)) #prende la media e la std\n",
    "        #della i-esima categoria e crea un array con dimensioni points x 2\n",
    "        data.append(category_data) #inserisce l'array nella lista dei dati\n",
    "        labels.append(np.full(points, i)) #crep un array di lunghezza points riempito con l'indice i\n",
    "        #e lo mette in labels. assegna un'etichetta ad ogni punto della categoria\n",
    "    data = np.vstack(data) #impila gli array verticalmente\n",
    "    labels = np.concatenate(labels) #unisce le labels nell'asse orizzontale\n",
    "    return(data, labels) #mi ritorna praticamente una matrice con labels e dati per categoria\n"
   ]
  },
  {
   "cell_type": "code",
   "execution_count": null,
   "id": "b61b9dc7",
   "metadata": {},
   "outputs": [],
   "source": []
  }
 ],
 "metadata": {
  "kernelspec": {
   "display_name": "Python 3 (ipykernel)",
   "language": "python",
   "name": "python3"
  },
  "language_info": {
   "codemirror_mode": {
    "name": "ipython",
    "version": 3
   },
   "file_extension": ".py",
   "mimetype": "text/x-python",
   "name": "python",
   "nbconvert_exporter": "python",
   "pygments_lexer": "ipython3",
   "version": "3.11.4"
  }
 },
 "nbformat": 4,
 "nbformat_minor": 5
}
