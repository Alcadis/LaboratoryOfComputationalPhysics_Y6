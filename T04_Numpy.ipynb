{
 "cells": [
  {
   "cell_type": "code",
   "execution_count": 1,
   "id": "edf53487",
   "metadata": {},
   "outputs": [],
   "source": [
    "import numpy as np"
   ]
  },
  {
   "cell_type": "code",
   "execution_count": 2,
   "id": "c7ad1c7e",
   "metadata": {},
   "outputs": [
    {
     "name": "stdout",
     "output_type": "stream",
     "text": [
      "73.8 µs ± 1.98 µs per loop (mean ± std. dev. of 7 runs, 10,000 loops each)\n",
      "1.24 µs ± 4.09 ns per loop (mean ± std. dev. of 7 runs, 1,000,000 loops each)\n"
     ]
    }
   ],
   "source": [
    "# ARRAYS \n",
    "# Multi-dimensional arrays are possible, and operations with them are quiet efficients.\n",
    "L = range(1000)\n",
    "a = np.arange(1000)\n",
    "%timeit [i**2 for i in L]\n",
    "%timeit a**2"
   ]
  },
  {
   "cell_type": "code",
   "execution_count": 9,
   "id": "d3fcfd0d",
   "metadata": {},
   "outputs": [
    {
     "name": "stdout",
     "output_type": "stream",
     "text": [
      "[1. 2. 3.] float64\n",
      "[1 2 3] uint32\n",
      "[ True False  True False] bool\n",
      "['Che' 'Bello' 'Python'] <U6\n"
     ]
    }
   ],
   "source": [
    "# A numpy array is a grid of values with the same type\n",
    "a = np.array([1,2,3], 'float64') #tutti saranno quindi dei float\n",
    "b = np.array([1,2,3], 'uint32') #tutti saranno int\n",
    "print(a, a.dtype)\n",
    "print(b, b.dtype)\n",
    "# Anche numeri complessi sono permessi\n",
    "# Pure booleans\n",
    "c = np.array([True,False,True,False])\n",
    "print(c, c.dtype)\n",
    "# Pure stringhe\n",
    "d = np.array(['Che', 'Bello', 'Python'])\n",
    "print(d, d.dtype)"
   ]
  },
  {
   "cell_type": "code",
   "execution_count": 16,
   "id": "10e5871c",
   "metadata": {},
   "outputs": [
    {
     "name": "stdout",
     "output_type": "stream",
     "text": [
      "rank 1\n",
      "shape (3,)\n",
      "rank 2\n",
      "shape (2, 3)\n",
      "rank 3\n",
      "shape (2, 3, 3)\n"
     ]
    }
   ],
   "source": [
    "# DIMENSIONS\n",
    "a = np.array([1, 2, 3]) #1D\n",
    "print('rank', a.ndim) #1 dimensione\n",
    "print('shape', a.shape) #3 elementi nell'array\n",
    "b = np.array([[1, 2, 3], [4, 5, 6]]) #2D\n",
    "print('rank', b.ndim) #2 dimensioni (riga e colonna)\n",
    "print('shape', b.shape) #2 righe e 3 colonne\n",
    "c = np.array([[[1, 2, 3], [4, 5, 6], [7, 8, 9]],\n",
    "             [[9, 8, 7], [6, 5, 4], [3, 2, 1]]]) #3D (2 righe 3 colonne)\n",
    "print('rank', c.ndim) #3D\n",
    "print('shape', c.shape) #2 matrici 3x3"
   ]
  },
  {
   "cell_type": "code",
   "execution_count": 24,
   "id": "ddebd3bd",
   "metadata": {},
   "outputs": [
    {
     "name": "stdout",
     "output_type": "stream",
     "text": [
      "[1, 2, 3] <class 'list'>\n",
      "[1 3 5 7]\n",
      "[0.         0.05263158 0.10526316 0.15789474 0.21052632 0.26315789\n",
      " 0.31578947 0.36842105 0.42105263 0.47368421 0.52631579 0.57894737\n",
      " 0.63157895 0.68421053 0.73684211 0.78947368 0.84210526 0.89473684\n",
      " 0.94736842 1.        ]\n",
      "[[1. 1. 1.]\n",
      " [1. 1. 1.]\n",
      " [1. 1. 1.]] \n",
      "\n",
      "[[0. 0.]\n",
      " [0. 0.]] \n",
      "\n",
      "[[1. 0. 0.]\n",
      " [0. 1. 0.]\n",
      " [0. 0. 1.]] \n",
      "\n",
      "[[2 0 0 0]\n",
      " [0 5 0 0]\n",
      " [0 0 3 0]\n",
      " [0 0 0 4]] \n",
      "\n",
      "[0 1 4] \n",
      "\n",
      "[[ 4.  5.  8. 13. 20.]\n",
      " [ 2.  1.  2.  5. 10.]\n",
      " [ 4.  1.  0.  1.  4.]\n",
      " [10.  5.  2.  1.  2.]\n",
      " [20. 13.  8.  5.  4.]] \n",
      "\n"
     ]
    }
   ],
   "source": [
    "# INITIALIZING ARRAYS\n",
    "# A list can be inside an array\n",
    "l = [1,2,3]\n",
    "a = np.array(l)\n",
    "print(a.tolist(), type(a.tolist()))\n",
    "# To inizialize i remember how it works: \n",
    "print(np.arange(1,9,2)) #start, and, steps\n",
    "print(np.linspace(0,1,20)) #start, end, num-points (for plotting graphs)\n",
    "# Inizializziamo i più comuni arrays\n",
    "ones = np.ones((3,3)) #fa una matrice 3 righe 3 colonne di uni\n",
    "print(ones, '\\n')\n",
    "zeros = np.zeros((2,2)) #fa una matrice 2x2 di zeri\n",
    "print(zeros, '\\n')\n",
    "unity = np.eye(3) #matrice identità, uguale a np.identity\n",
    "print(unity, '\\n')\n",
    "diagonal = np.diag(np.array([2,5,3,4])) #matrice con come diagonale l'array inserito\n",
    "print(diagonal, '\\n')\n",
    "array = np.array([x*x for x in range(3)])\n",
    "print(array, '\\n')\n",
    "func = np.fromfunction(lambda i,j: (i-2)**2 + (j-i)**2, (5,5))\n",
    "print(func, '\\n')"
   ]
  },
  {
   "cell_type": "code",
   "execution_count": 29,
   "id": "c209e2ec",
   "metadata": {},
   "outputs": [
    {
     "name": "stdout",
     "output_type": "stream",
     "text": [
      "original: [0 1 2 3 4 5] \n",
      "\n",
      "reshaped: [[0 1]\n",
      " [2 3]\n",
      " [4 5]] \n",
      "\n",
      "flattened array (back to original): [0 1 2 3 4 5] \n",
      "\n",
      "1D concatenation: [1 2 3 4 5 6 7 8 9] \n",
      "\n",
      "default 2D concatenation: \n",
      " [[1 2]\n",
      " [3 4]\n",
      " [5 6]\n",
      " [7 8]] \n",
      "\n",
      "concatenation along the first axis: \n",
      " [[1 2]\n",
      " [3 4]\n",
      " [5 6]\n",
      " [7 8]] \n",
      "\n",
      "concatenation along the second axis: \n",
      " [[1 2 5 6]\n",
      " [3 4 7 8]] \n",
      "\n"
     ]
    }
   ],
   "source": [
    "# RESHAPING AND CONCATENATION\n",
    "# Partendo da un qualsiasi array posso cambiargli la forma \n",
    "a = np.arange(0, 6) #1 riga 6 valori nell'array\n",
    "m = a.reshape(3, 2) #disporre questi valori in 3 righe 2 colonne\n",
    "print(\"original:\", a, '\\n')\n",
    "print(\"reshaped:\", m, '\\n')\n",
    "back_to_a = m.flatten() #riporto ad a che era 1dimensionale\n",
    "print(\"flattened array (back to original):\", back_to_a, '\\n')\n",
    "\n",
    "# L'operazione di concatenare è un pò complessa se si hanno dimensioni diverse\n",
    "a = np.array([1, 2])\n",
    "b = np.array([3, 4, 5, 6])\n",
    "c = np.array([7, 8, 9]) #tutti e 3 sono 1d\n",
    "print(\"1D concatenation:\", np.concatenate((a, b, c)),'\\n') #Porta tutto ad una dimensione\n",
    "a = np.array([[1, 2], [3, 4]]) #parto da 2d\n",
    "b = np.array([[5, 6], [7, 8]]) #altro 2d\n",
    "print(\"default 2D concatenation:\",'\\n', np.concatenate((a, b)),'\\n') #ottengo 1 sotto l'altra 4 righe 2 col\n",
    "print(\"concatenation along the first axis:\",'\\n', np.concatenate((a, b), axis=0), '\\n') #sotto 4x2\n",
    "print(\"concatenation along the second axis:\",'\\n', np.concatenate((a, b), axis=1), '\\n') #affianco 2x4"
   ]
  },
  {
   "cell_type": "code",
   "execution_count": null,
   "id": "967db3af",
   "metadata": {},
   "outputs": [],
   "source": [
    "# COPIE E VIEWS\n",
    "a = np.array([1, 2, 3])\n",
    "b = a # tutte le modifiche di a modificano anche b\n",
    "c = a.copy() # faccio una copia, così se modifico quella originale resta uguale"
   ]
  },
  {
   "cell_type": "code",
   "execution_count": 2,
   "id": "3fba38d7",
   "metadata": {},
   "outputs": [
    {
     "name": "stdout",
     "output_type": "stream",
     "text": [
      "0 3 9\n",
      "[2 5 8]\n",
      "[9 8 7 6 5 4 3 2 1 0]\n"
     ]
    }
   ],
   "source": [
    "# INDEXING\n",
    "a = np.arange(10)\n",
    "print(a[0], a[3], a[-1]) #il -1 printa l'ultimo valore perchè parte da destra e va a sinsitra\n",
    "print(a[2:9:3]) #da 2 a 9 a passi di 3\n",
    "print(a[::-1]) #reverse (se lascio i primi due vuoti prendo tutto)"
   ]
  },
  {
   "cell_type": "code",
   "execution_count": 17,
   "id": "f2a74f4b",
   "metadata": {},
   "outputs": [
    {
     "name": "stdout",
     "output_type": "stream",
     "text": [
      "[[ 0  1  2  3  4  5]\n",
      " [10 11 12 13 14 15]\n",
      " [20 21 22 23 24 25]\n",
      " [30 31 32 33 34 35]\n",
      " [40 41 42 43 44 45]\n",
      " [50 51 52 53 54 55]]\n",
      "[[ 0  1  2  3  4  5]\n",
      " [10 11 12 13 14 15]\n",
      " [20 21 22 23 24 25]\n",
      " [30 31 32 33 34 35]\n",
      " [40 41 42 43 44 45]\n",
      " [50 51 52 53 54 55]]\n"
     ]
    }
   ],
   "source": [
    "#from IPython.display import Image\n",
    "#Image(\"numpy_indexing.png\")\n",
    "a = np.array([[0,1,2,3,4,5],\n",
    "             [10,11,12,13,14,15],\n",
    "             [20,21,22,23,24,25],\n",
    "             [30,31,32,33,34,35],\n",
    "             [40,41,42,43,44,45],\n",
    "             [50,51,52,53,54,55]])\n",
    "print(a)\n",
    "x = np.array([0,1,2,3,4,5])\n",
    "b = np.array([10,20,30,40,50])\n",
    "a = np.array([x + j for j in np.insert(b, 0, 0)])\n",
    "print(a)"
   ]
  }
 ],
 "metadata": {
  "kernelspec": {
   "display_name": "Python 3 (ipykernel)",
   "language": "python",
   "name": "python3"
  },
  "language_info": {
   "codemirror_mode": {
    "name": "ipython",
    "version": 3
   },
   "file_extension": ".py",
   "mimetype": "text/x-python",
   "name": "python",
   "nbconvert_exporter": "python",
   "pygments_lexer": "ipython3",
   "version": "3.11.4"
  }
 },
 "nbformat": 4,
 "nbformat_minor": 5
}
