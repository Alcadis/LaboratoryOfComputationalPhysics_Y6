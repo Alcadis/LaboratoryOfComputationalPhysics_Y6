{
 "cells": [
  {
   "cell_type": "code",
   "execution_count": 1,
   "id": "edf53487",
   "metadata": {},
   "outputs": [],
   "source": [
    "import numpy as np"
   ]
  },
  {
   "cell_type": "code",
   "execution_count": null,
   "id": "c7ad1c7e",
   "metadata": {},
   "outputs": [],
   "source": [
    "# ARRAYS \n",
    "# Multi-dimensional arrays are possible, and operations with them are quiet efficients.\n",
    "L = range(1000)\n",
    "a = np.arange(1000)\n",
    "%timeit [i**2 for i in L]\n",
    "%timeit a**2"
   ]
  },
  {
   "cell_type": "code",
   "execution_count": null,
   "id": "d3fcfd0d",
   "metadata": {},
   "outputs": [],
   "source": [
    "# A numpy array is a grid of values with the same type\n",
    "a = np.array([1,2,3], 'float64') #tutti saranno quindi dei float\n",
    "b = np.array([1,2,3], 'uint32') #tutti saranno int\n",
    "print(a, a.dtype)\n",
    "print(b, b.dtype)\n",
    "# Anche numeri complessi sono permessi\n",
    "# Pure booleans\n",
    "c = np.array([True,False,True,False])\n",
    "print(c, c.dtype)\n",
    "# Pure stringhe\n",
    "d = np.array(['Che', 'Bello', 'Python'])\n",
    "print(d, d.dtype)"
   ]
  },
  {
   "cell_type": "code",
   "execution_count": null,
   "id": "10e5871c",
   "metadata": {},
   "outputs": [],
   "source": [
    "# DIMENSIONS\n",
    "a = np.array([1, 2, 3]) #1D\n",
    "print('rank', a.ndim) #1 dimensione\n",
    "print('shape', a.shape) #3 elementi nell'array\n",
    "b = np.array([[1, 2, 3], [4, 5, 6]]) #2D\n",
    "print('rank', b.ndim) #2 dimensioni (riga e colonna)\n",
    "print('shape', b.shape) #2 righe e 3 colonne\n",
    "c = np.array([[[1, 2, 3], [4, 5, 6], [7, 8, 9]],\n",
    "             [[9, 8, 7], [6, 5, 4], [3, 2, 1]]]) #3D (2 righe 3 colonne)\n",
    "print('rank', c.ndim) #3D\n",
    "print('shape', c.shape) #2 matrici 3x3"
   ]
  },
  {
   "cell_type": "code",
   "execution_count": null,
   "id": "ddebd3bd",
   "metadata": {},
   "outputs": [],
   "source": [
    "# INITIALIZING ARRAYS\n",
    "# A list can be inside an array\n",
    "l = [1,2,3]\n",
    "a = np.array(l)\n",
    "print(a.tolist(), type(a.tolist()))\n",
    "# To inizialize i remember how it works: \n",
    "print(np.arange(1,9,2)) #start, and, steps\n",
    "print(np.linspace(0,1,20)) #start, end, num-points (for plotting graphs)\n",
    "# Inizializziamo i più comuni arrays\n",
    "ones = np.ones((3,3)) #fa una matrice 3 righe 3 colonne di uni\n",
    "print(ones, '\\n')\n",
    "zeros = np.zeros((2,2)) #fa una matrice 2x2 di zeri\n",
    "print(zeros, '\\n')\n",
    "unity = np.eye(3) #matrice identità, uguale a np.identity\n",
    "print(unity, '\\n')\n",
    "diagonal = np.diag(np.array([2,5,3,4])) #matrice con come diagonale l'array inserito\n",
    "print(diagonal, '\\n')\n",
    "array = np.array([x*x for x in range(3)])\n",
    "print(array, '\\n')\n",
    "func = np.fromfunction(lambda i,j: (i-2)**2 + (j-i)**2, (5,5))\n",
    "print(func, '\\n')"
   ]
  },
  {
   "cell_type": "code",
   "execution_count": null,
   "id": "c209e2ec",
   "metadata": {},
   "outputs": [],
   "source": [
    "# RESHAPING AND CONCATENATION\n",
    "# Partendo da un qualsiasi array posso cambiargli la forma \n",
    "a = np.arange(0, 6) #1 riga 6 valori nell'array\n",
    "m = a.reshape(3, 2) #disporre questi valori in 3 righe 2 colonne\n",
    "print(\"original:\", a, '\\n')\n",
    "print(\"reshaped:\", m, '\\n')\n",
    "back_to_a = m.flatten() #riporto ad a che era 1dimensionale\n",
    "print(\"flattened array (back to original):\", back_to_a, '\\n')\n",
    "\n",
    "# L'operazione di concatenare è un pò complessa se si hanno dimensioni diverse\n",
    "a = np.array([1, 2])\n",
    "b = np.array([3, 4, 5, 6])\n",
    "c = np.array([7, 8, 9]) #tutti e 3 sono 1d\n",
    "print(\"1D concatenation:\", np.concatenate((a, b, c)),'\\n') #Porta tutto ad una dimensione\n",
    "a = np.array([[1, 2], [3, 4]]) #parto da 2d\n",
    "b = np.array([[5, 6], [7, 8]]) #altro 2d\n",
    "print(\"default 2D concatenation:\",'\\n', np.concatenate((a, b)),'\\n') #ottengo 1 sotto l'altra 4 righe 2 col\n",
    "print(\"concatenation along the first axis:\",'\\n', np.concatenate((a, b), axis=0), '\\n') #sotto 4x2\n",
    "print(\"concatenation along the second axis:\",'\\n', np.concatenate((a, b), axis=1), '\\n') #affianco 2x4"
   ]
  },
  {
   "cell_type": "code",
   "execution_count": null,
   "id": "967db3af",
   "metadata": {},
   "outputs": [],
   "source": [
    "# COPIE E VIEWS\n",
    "a = np.array([1, 2, 3])\n",
    "b = a # tutte le modifiche di a modificano anche b\n",
    "c = a.copy() # faccio una copia, così se modifico quella originale resta uguale"
   ]
  },
  {
   "cell_type": "code",
   "execution_count": null,
   "id": "3fba38d7",
   "metadata": {},
   "outputs": [],
   "source": [
    "# INDEXING\n",
    "a = np.arange(10)\n",
    "print(a[0], a[3], a[-1]) #il -1 printa l'ultimo valore perchè parte da destra e va a sinsitra\n",
    "print(a[2:9:3]) #da 2 a 9 a passi di 3\n",
    "print(a[::-1]) #reverse (se lascio i primi due vuoti prendo tutto)"
   ]
  },
  {
   "cell_type": "code",
   "execution_count": null,
   "id": "f2a74f4b",
   "metadata": {},
   "outputs": [],
   "source": [
    "#from IPython.display import Image\n",
    "#Image(\"numpy_indexing.png\")\n",
    "a = np.array([[0,1,2,3,4,5],\n",
    "             [10,11,12,13,14,15],\n",
    "             [20,21,22,23,24,25],\n",
    "             [30,31,32,33,34,35],\n",
    "             [40,41,42,43,44,45],\n",
    "             [50,51,52,53,54,55]]) #fatta a mano risulta un pò lunga, soprattutto con nxn colonne\n",
    "print(a)\n",
    "x = np.array([0,1,2,3,4,5])\n",
    "b = np.array([10,20,30,40,50])\n",
    "a = np.array([x + j for j in np.insert(b, 0, 0)]) #modo più veloce ma da capire\n",
    "print(a)"
   ]
  },
  {
   "cell_type": "code",
   "execution_count": 9,
   "id": "9104e320",
   "metadata": {},
   "outputs": [
    {
     "name": "stdout",
     "output_type": "stream",
     "text": [
      "[[0 0 0]\n",
      " [0 1 0]\n",
      " [0 0 2]] \n",
      "\n",
      "[[1 0]\n",
      " [0 2]] \n",
      "\n",
      "[[1 0]\n",
      " [0 1]] \n",
      "\n",
      "[[0 0 0]\n",
      " [0 1 0]\n",
      " [0 0 1]]\n",
      "Are a and b the same object? True\n"
     ]
    }
   ],
   "source": [
    "# SLICING\n",
    "# Praticamente creo una view di una parte di matrice per operare solo su quella. Ricordo che ogni modifica\n",
    "# sulla view modificherà appunto anche la matrice iniziale.\n",
    "a = np.diag(np.arange(3))\n",
    "print(a, '\\n')\n",
    "b = a[1:,1:] #voglio la 2x2 in basso a destra, quindi parto dalla riga 1 e colonna 1\n",
    "print(b, '\\n')\n",
    "b[1,1] = 1\n",
    "print(b, '\\n')\n",
    "print(a) #la modifica su b ha modificato anche a\n",
    "print(\"Are a and b the same object?\", np.may_share_memory(a, b)) #mi dice se è una view"
   ]
  },
  {
   "cell_type": "code",
   "execution_count": 15,
   "id": "212d2b6c",
   "metadata": {},
   "outputs": [
    {
     "name": "stdout",
     "output_type": "stream",
     "text": [
      "the filtered array: [ 0  6 12 18] \n",
      "\n",
      "[20 30 40 50]\n",
      "[[ 6  4]\n",
      " [10 12]]\n"
     ]
    }
   ],
   "source": [
    "# FANCY INDEXING\n",
    "# Lo faccio con con booleans o maschere e creo delle copie (non views)\n",
    "a = np.arange(0,21,2) #da 0 a 21 a step di 2\n",
    "mask = (a % 3 == 0)\n",
    "filt_a = a[mask]\n",
    "print(\"the filtered array:\", filt_a,'\\n')\n",
    "\n",
    "# posso indicizzare anche con array di integers \n",
    "a = np.arange(0,100,10)\n",
    "idx = [2,3,4,5]\n",
    "print(a[idx])\n",
    "\n",
    "b = np.arange(0,20,2)\n",
    "idx = np.array([[3,2],[5,6]])\n",
    "print(b[idx])"
   ]
  },
  {
   "cell_type": "code",
   "execution_count": null,
   "id": "849668bb",
   "metadata": {},
   "outputs": [],
   "source": [
    "# OPERATIONS WITH ARRAYS\n"
   ]
  }
 ],
 "metadata": {
  "kernelspec": {
   "display_name": "Python 3 (ipykernel)",
   "language": "python",
   "name": "python3"
  },
  "language_info": {
   "codemirror_mode": {
    "name": "ipython",
    "version": 3
   },
   "file_extension": ".py",
   "mimetype": "text/x-python",
   "name": "python",
   "nbconvert_exporter": "python",
   "pygments_lexer": "ipython3",
   "version": "3.11.5"
  }
 },
 "nbformat": 4,
 "nbformat_minor": 5
}
