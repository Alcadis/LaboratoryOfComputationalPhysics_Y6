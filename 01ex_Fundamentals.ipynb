{
 "cells": [
  {
   "cell_type": "markdown",
   "metadata": {},
   "source": [
    "#0\\. Implement a function (whatever you want) and save it to a file (e.g. `function.py`). Import that file and use that function in this notebook.\n",
    "from my_functions import add_numbers\n",
    "result = add_numbers(5,7)\n",
    "print(result)\n"
   ]
  },
  {
   "cell_type": "markdown",
   "metadata": {},
   "source": [
    "#1\\. Write the following as a list comprehension\n",
    "#ans = []\n",
    "#for i in range(3):\n",
    "#    for j in range(4):\n",
    "#       ans.append((i, j))\n",
    "#print (ans)\n",
    "\n",
    "ans = [(i, j) for i in range(3) for j in range(4)]\n",
    "print(ans)\n",
    "\n",
    "# 2\n",
    "#ans = map(lambda x: x*x, filter(lambda x: x%2 == 0, range(5)))\n",
    "#print (list(ans))\n",
    "\n",
    "ans = [x * x for x in range(5) if x % 2 == 0]\n",
    "print(ans)"
   ]
  },
  {
   "cell_type": "markdown",
   "metadata": {},
   "source": [
    "#2\\. Convert the following function into a pure function with no global variables or side effects\n",
    "#x = 5\n",
    "#def f(alist):\n",
    "#    for i in range(x):\n",
    "#         alist.append(i)\n",
    "#    return alist\n",
    "\n",
    "#alist = [1,2,3]\n",
    "#ans = f(alist)\n",
    "#print (ans)\n",
    "#print (alist) # alist has been changed!\n",
    "\n",
    "def f(alist, x):\n",
    "    result = []\n",
    "    for i in range(x):\n",
    "        result.append(i)\n",
    "    return result\n",
    "\n",
    "alist = [1, 2, 3]\n",
    "x = 5\n",
    "ans = f(alist, x)\n",
    "\n",
    "print(ans)\n",
    "print(alist)"
   ]
  },
  {
   "cell_type": "markdown",
   "metadata": {},
   "source": [
    "#3\\. Write a `decorator` hello that makes every wrapped function print “Hello!”, i.e. something like:\n",
    "\n",
    "#```python\n",
    "#@hello\n",
    "#def square(x):\n",
    "#    return x*x\n",
    "#```\n",
    "\n",
    "def hello(func):\n",
    "    def wrapper(x):\n",
    "        print(\"Hello!\")\n",
    "        result = func(x)\n",
    "        return result\n",
    "    return wrapper\n",
    "\n",
    "@hello\n",
    "def square(x):\n",
    "    return x * x\n",
    "\n",
    "result = square(5)\n",
    "print(f\"Result: {result}\")"
   ]
  },
  {
   "cell_type": "markdown",
   "metadata": {},
   "source": [
    "#4\\. Write the factorial function so that it \n",
    "#a) does and \n",
    "\n",
    "def fr(n):\n",
    "    if n == 0:\n",
    "        return 1\n",
    "    else:\n",
    "        return n * fr(n - 1)\n",
    "\n",
    "result1 = fr(5)\n",
    "print(result1)\n",
    "\n",
    "#b) does not use recursion (using a loop).\n",
    "\n",
    "def fnr(n):\n",
    "    if n < 0:\n",
    "        return None\n",
    "    result2 = 1\n",
    "    for i in range(1, n + 1):\n",
    "        result2 *= i\n",
    "    return result2\n",
    "result2 = fnr(5)\n",
    "print(result2)"
   ]
  },
  {
   "cell_type": "code",
   "execution_count": 55,
   "metadata": {},
   "outputs": [
    {
     "name": "stdout",
     "output_type": "stream",
     "text": [
      "Weight of Al with radius 1: 3.14159\n",
      "Weight of Al with radius 2: 6.28318\n",
      "Weight of Al with radius 3: 9.424769999999999\n",
      "Weight of Fe with radius 1: 12.56636\n",
      "Weight of Fe with radius 2: 50.26544\n",
      "Weight of Fe with radius 3: 113.09724\n",
      "Weight of Pb with radius 1: 125.66359999999999\n",
      "Weight of Pb with radius 2: 1005.3087999999999\n",
      "Weight of Pb with radius 3: 3392.9171999999994\n"
     ]
    }
   ],
   "source": [
    "#5\\. Use HOFs (zip in particular) to compute the weight of a circle, a disk and a sphere, assuming different radii and different densities:\n",
    "#```python\n",
    "#densities = {\"Al\":[0.5,1,2],\"Fe\":[3,4,5],\"Pb\": [15,20,30]}\n",
    "#radii = [1,2,3]\n",
    "#```\n",
    "#where the entries of the dictionary's values are the linear, superficial and volumetric densities of the materials respectively.\n",
    "#In particular define a list of three lambda functions using a comprehension that computes the circumference, the area and the volume for a given radius.\n",
    "\n",
    "# Define the densities dictionary \n",
    "densities = {\"Al\": [0.5, 1, 2], \"Fe\": [3, 4, 5], \"Pb\": [15, 20, 30]}\n",
    "#and radii list\n",
    "radii = [1, 2, 3]\n",
    "\n",
    "# Define a list of lambda functions using comprehensions\n",
    "# These lambda functions calculate the circumference, area, and volume for a given radius\n",
    "circle_lambda = lambda r: 2 * 3.14159 * r\n",
    "disk_lambda = lambda r: 3.14159 * r**2\n",
    "sphere_lambda = lambda r: (4/3) * 3.14159 * r**3\n",
    "\n",
    "# Calculate and print the weight for each combination of radius and density\n",
    "for material, density_values in densities.items():\n",
    "    for radius in radii:\n",
    "        # Calculate weight based on density, lambda function, and radius\n",
    "        weight = density_values[2] * sphere_lambda(radius) if material == \"Pb\" else \\\n",
    "                 density_values[1] * disk_lambda(radius) if material == \"Fe\" else \\\n",
    "                 density_values[0] * circle_lambda(radius) if material == \"Al\" else 0\n",
    "        \n",
    "        print(f\"Weight of {material} with radius {radius}: {weight}\")\n"
   ]
  },
  {
   "cell_type": "markdown",
   "metadata": {},
   "source": [
    "6\\. Edit the class defintion to add an instance attribute of is_hungry = True to the Dog class. Then add a method called eat() which changes the value of is_hungry to False when called. Figure out the best way to feed each dog and then output “My dogs are hungry.” if all are hungry or “My dogs are not hungry.” if all are not hungry. The final output should look like this:\n",
    "\n",
    "`I have 3 dogs. \n",
    "Tom is 6. \n",
    "Fletcher is 7. \n",
    "Larry is 9. \n",
    "And they're all mammals, of course. \n",
    "My dogs are not hungry.\n",
    "`\n",
    "\n",
    "```python\n",
    "# Parent class\n",
    "class Dog:\n",
    "\n",
    "    # Class attribute\n",
    "    species = 'mammal'\n",
    "\n",
    "    # Initializer / Instance attributes\n",
    "    def __init__(self, name, age):\n",
    "        self.name = name\n",
    "        self.age = age\n",
    "\n",
    "    # instance method\n",
    "    def description(self):\n",
    "        return \"{} is {} years old\".format(self.name, self.age)\n",
    "\n",
    "    # instance method\n",
    "    def speak(self, sound):\n",
    "        return \"{} says {}\".format(self.name, sound)\n",
    "\n",
    "# Child class (inherits from Dog class)\n",
    "class RussellTerrier(Dog):\n",
    "    def run(self, speed):\n",
    "        return \"{} runs {}\".format(self.name, speed)\n",
    "\n",
    "# Child class (inherits from Dog class)\n",
    "class Bulldog(Dog):\n",
    "    def run(self, speed):\n",
    "        return \"{} runs {}\".format(self.name, speed)\n",
    "```"
   ]
  },
  {
   "cell_type": "code",
   "execution_count": null,
   "metadata": {},
   "outputs": [],
   "source": []
  }
 ],
 "metadata": {
  "kernelspec": {
   "display_name": "Python 3 (ipykernel)",
   "language": "python",
   "name": "python3"
  },
  "language_info": {
   "codemirror_mode": {
    "name": "ipython",
    "version": 3
   },
   "file_extension": ".py",
   "mimetype": "text/x-python",
   "name": "python",
   "nbconvert_exporter": "python",
   "pygments_lexer": "ipython3",
   "version": "3.11.5"
  }
 },
 "nbformat": 4,
 "nbformat_minor": 2
}
