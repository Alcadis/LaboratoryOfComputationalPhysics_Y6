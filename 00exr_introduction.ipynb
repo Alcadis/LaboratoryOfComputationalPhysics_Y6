{
 "cells": [
  {
   "cell_type": "markdown",
   "metadata": {},
   "source": [
    "#1. The MickeyMouse problem\n",
    "#a) Write a program that prints the numbers from 1 to 100. But for multiples of 3 print `Mickey`\n",
    "#instead of the corresponding number and for the multiples of 5 print `Mouse`. \n",
    "#For numbers which are multiples of both three and five print `MickeyMouse`\n",
    "\n",
    "a = [] #creo la lista\n",
    "for i in range(1, 101): #creo il range di numeri da 1 a 100\n",
    "    a.append('MickeyMouse' if i % 3 == 0 and i % 5 == 0 #creo condizione molteplicità con %                                          #molteplicità con %\n",
    "             else 'Mickey' if i % 3 == 0 #succede questo se ho questo, sennò ...\n",
    "             else 'Mouse' if i % 5 == 0 \n",
    "             else i)\n",
    "print(a)\n",
    "#b) Put the result in a tuple and substitute `Mickey` with `Donald` and `Mouse` with `Duck`\n",
    "b = tuple(\n",
    "    'DonaldDuck' if 'MickeyMouse' in str(num)\n",
    "    else 'Donald' if 'Mickey' in str(num)\n",
    "    else 'Duck' if 'Mouse' in str(num)\n",
    "    else num\n",
    "    for num in a\n",
    ")\n",
    "    \n",
    "print(b)\n",
    "\n",
    "\n"
   ]
  },
  {
   "cell_type": "markdown",
   "metadata": {},
   "source": [
    "#2\\. The swap function\n",
    "\n",
    "#Write a function that swap the values of two input variables x and y (whatever the type). \n",
    "#Try to do that also without a temporary variable\n",
    "def swap(x, y):\n",
    "    x, y = y, x\n",
    "    return x, y\n",
    "\n",
    "x = 5\n",
    "y = 10\n",
    "print(\"Before swapping: x =\", x, \"y =\", y)\n",
    "x, y = swap(x, y)\n",
    "print(\"After swapping: x =\", x, \"y =\", y)\n"
   ]
  },
  {
   "cell_type": "markdown",
   "metadata": {},
   "source": [
    "#3\\. Computing the distance\n",
    "\n",
    "#Write a function that calculates and returns the euclidean distance between two points *u* and *v*,\n",
    "#where *u* and *v* are both 2-tuples *(x,y)*. For example, if *u=(3,0)* and *v=(0,4)*,\n",
    "#the function should return 5\n",
    "import math\n",
    "def euclidean_distance(u,v):\n",
    "    x1, y1 = u\n",
    "    x2, y2 = v\n",
    "    distance = math.sqrt((x1 - x2) ** 2 + (y1 - y2) ** 2)\n",
    "    return distance\n",
    "\n",
    "u = (3, 0)\n",
    "v = (0, 4)\n",
    "result = euclidean_distance(u,v)\n",
    "print(result)\n",
    "\n",
    "\n",
    "\n",
    "\n"
   ]
  },
  {
   "cell_type": "markdown",
   "metadata": {},
   "source": [
    "#4\\. Counting letters\n",
    "#Write a program to calculate the number of times each character occurs in a given string *s*.\n",
    "#Ignore differneces in capitalization\n",
    "s = []\n",
    "for i in range(1, 101):\n",
    "    s.append('MickeyMouse' if i % 3 == 0 and i % 5 == 0                                     \n",
    "             else 'Mickey' if i % 3 == 0 \n",
    "             else 'Mouse' if i % 5 == 0 \n",
    "             else i)\n",
    "x = 0\n",
    "y = 0\n",
    "z = 0\n",
    "for item in s:\n",
    "    if item == 'Mickey':\n",
    "        x += 1\n",
    "    elif item == 'Mouse':\n",
    "        y += 1\n",
    "    elif item == 'MickeyMouse':\n",
    "        z += 1\n",
    "print('Mickey counter:',x, 'Mouse counter:',y, 'MickeyMouse counter:',z)"
   ]
  },
  {
   "cell_type": "markdown",
   "metadata": {},
   "source": [
    "#5\\. Isolating the unique\n",
    "\n",
    "#Write a function that determines and count the unique numbers in the list *l*\n",
    "\n",
    "l = [36, 45, 58, 3, 74, 96, 64, 45, 31, 10, 24, 19, 33, 86, 99, 18, 63, 70, 85,\n",
    " 85, 63, 47, 56, 42, 70, 84, 88, 55, 20, 54, 8, 56, 51, 79, 81, 57, 37, 91,\n",
    " 1, 84, 84, 36, 66, 9, 89, 50, 42, 91, 50, 95, 90, 98, 39, 16, 82, 31, 92, 41,\n",
    " 45, 30, 66, 70, 34, 85, 94, 5, 3, 36, 72, 91, 84, 34, 87, 75, 53, 51, 20, 89, 51, 20]\n",
    "\n",
    "def count(lst):\n",
    "    unique_numbers = set()\n",
    "    for num in lst:\n",
    "        unique_numbers.add(num)\n",
    "    \n",
    "    return len(unique_numbers)\n",
    "x = count(l)\n",
    "print(\"Number of unique numbers:\", x)\n",
    "    \n"
   ]
  },
  {
   "cell_type": "markdown",
   "metadata": {},
   "source": [
    "#6\\. Combination of functions\n",
    "\n",
    "#Write two functions - one that returns the square of a number, and one that returns the cube.\n",
    "#Now write a third function that returns the number raised to the 6th power using the two \n",
    "#previous functions.\n",
    "import math\n",
    "\n",
    "def square(x):\n",
    "    return x**2\n",
    "def cube(x):\n",
    "    return x**3\n",
    "\n",
    "def sixth_power(x):\n",
    "    x_squared = square(x)\n",
    "    x_cubed = cube(x)\n",
    "    return x_squared * x_cubed\n",
    "x = 5\n",
    "result = sixth_power(x)\n",
    "print('The result is: ',int(result))\n",
    "\n",
    "    \n",
    "\n",
    "\n",
    "\n",
    "    \n",
    "\n",
    "    "
   ]
  },
  {
   "cell_type": "markdown",
   "metadata": {},
   "source": [
    "#7\\. Cubes\n",
    "\n",
    "#Create a list of the cubes of x for x in *[0, 10]* using:\n",
    "#a) a for loop\n",
    "cubes = []\n",
    "\n",
    "for x in range(11):\n",
    "    cube = x ** 3\n",
    "    cubes.append(cube)\n",
    "\n",
    "print(cubes)\n",
    "\n",
    "#b) a list comprehension\n",
    "cubes = [x**3 for x in range(11)]\n",
    "print(cubes)"
   ]
  },
  {
   "cell_type": "markdown",
   "metadata": {},
   "source": [
    "#8\\. Nested list comprehension\n",
    "\n",
    "#A Pythagorean triple is an integer solution to the Pythagorean theorem $a^2+b^2=c^2$.\n",
    "#The first Pythagorean triple is (3,4,5). Find and put in a tuple all unique Pythagorean triples\n",
    "#for the positive integers a, b and c less than 100.\n",
    "pythagorean_triples = []\n",
    "\n",
    "for a in range(1, 100):\n",
    "    for b in range(a, 100):\n",
    "        c_squared = a**2 + b**2\n",
    "        c = int(c_squared**0.5)  # Calculate the square root and convert to an integer\n",
    "        if c * c == c_squared and c < 100:\n",
    "            pythagorean_triples.append((a, b, c))\n",
    "\n",
    "print(pythagorean_triples)\n",
    "\n"
   ]
  },
  {
   "cell_type": "markdown",
   "metadata": {},
   "source": [
    "#9\\. Normalization\n",
    "\n",
    "#Write a function that takes a tuple of numbers and returns it with the entries normalized to one\n",
    "def normalize(num):\n",
    "    total = sum(num)\n",
    "    normalized_tuple = tuple(x / total for x in num)\n",
    "    return normalized_tuple\n",
    "\n",
    "#Esempio:\n",
    "original_tuple = (3, 4, 5)\n",
    "result = normalize(original_tuple)\n",
    "print(result)\n"
   ]
  }
 ],
 "metadata": {
  "kernelspec": {
   "display_name": "Python 3 (ipykernel)",
   "language": "python",
   "name": "python3"
  },
  "language_info": {
   "codemirror_mode": {
    "name": "ipython",
    "version": 3
   },
   "file_extension": ".py",
   "mimetype": "text/x-python",
   "name": "python",
   "nbconvert_exporter": "python",
   "pygments_lexer": "ipython3",
   "version": "3.11.5"
  }
 },
 "nbformat": 4,
 "nbformat_minor": 2
}
