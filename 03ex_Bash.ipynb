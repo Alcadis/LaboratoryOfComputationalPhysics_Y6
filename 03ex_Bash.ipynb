{
 "cells": [
  {
   "cell_type": "markdown",
   "id": "b5746bd0",
   "metadata": {},
   "source": [
    "The following exercises are meant to be solved by gathering the bash commands incrimentally in two scripts, one for ex 1.* the other for ex 2.* "
   ]
  },
  {
   "cell_type": "markdown",
   "id": "4e60de78",
   "metadata": {},
   "source": [
    "### Ex 1"
   ]
  },
  {
   "cell_type": "markdown",
   "id": "6759df36",
   "metadata": {},
   "source": [
    "1\\.a Make a new directory called `students` in your home. Download a csv file with the list of students of this lab from [here](https://www.dropbox.com/s/867rtx3az6e9gm8/LCP_22-23_students.csv) (use the `wget` command) and copy that to `students`. First check whether the file is already there"
   ]
  },
  {
   "cell_type": "code",
   "execution_count": null,
   "id": "f5a3a044",
   "metadata": {},
   "outputs": [],
   "source": [
    "mkdir students\n",
    "cd students\n",
    "wget https://www.dropbox.com/s/867rtx3az6e9gm8/LCP_22-23_students.csv\n",
    "ls"
   ]
  },
  {
   "cell_type": "markdown",
   "id": "798c0c9d",
   "metadata": {},
   "source": [
    "1\\.b Make two new files, one containing the students belonging to PoD, the other to Physics."
   ]
  },
  {
   "cell_type": "code",
   "execution_count": null,
   "id": "869963b6",
   "metadata": {},
   "outputs": [],
   "source": [
    "grep 'PoD' LCP_22-23_students.csv > PoD_students.csv\n",
    "grep 'Physics' LCP_22-23_students.csv > Physics_students.csv\n",
    "ls\n",
    "cat PoD_students.csv\n",
    "cat Physics_students.csv"
   ]
  },
  {
   "cell_type": "markdown",
   "id": "8a43d622",
   "metadata": {},
   "source": [
    "1\\.c For each letter of the alphabet, count the number of students whose surname starts with that letter. "
   ]
  },
  {
   "cell_type": "code",
   "execution_count": null,
   "id": "2d8d4b46",
   "metadata": {},
   "outputs": [],
   "source": [
    "for letter in {A..Z}; do\n",
    "    echo \"$letter: $(grep -i \"^$letter\" LCP_22-23_students.csv | wc -l)\"\n",
    "done"
   ]
  },
  {
   "cell_type": "markdown",
   "id": "4ba6bc90",
   "metadata": {},
   "source": [
    "1\\.d Find out which is the letter with most counts."
   ]
  },
  {
   "cell_type": "code",
   "execution_count": null,
   "id": "5b7ef074",
   "metadata": {},
   "outputs": [],
   "source": [
    "max_count=0\n",
    "max_letter=\"\"\n",
    "\n",
    "for letter in {A..Z}; do\n",
    "    count=$(grep -i \"^$letter\" LCP_22-23_students.csv | wc -l)\n",
    "    if (( count > max_count )); then\n",
    "        max_count=$count\n",
    "        max_letter=$letter\n",
    "    fi\n",
    "done\n",
    "\n",
    "echo \"Letter with most counts: $max_letter ($max_count)\""
   ]
  },
  {
   "cell_type": "markdown",
   "id": "086a043c",
   "metadata": {},
   "source": [
    "1\\.e Assume an obvious numbering of the students in the file (first line is 1, second line is 2, etc.), group students \"modulo 18\", i.e. 1,19,37,.. 2,20,38,.. etc. and put each group in a separate file  "
   ]
  },
  {
   "cell_type": "code",
   "execution_count": null,
   "id": "43dcd453",
   "metadata": {},
   "outputs": [],
   "source": [
    "line_number=0 \n",
    "\n",
    "while read -r line; do #while condizione vera (in questo caso fino a finire le righe); do\n",
    "    ((line_number++)) #aumenta di una le righe ad ogni iterazione\n",
    "    group_number=$(( (line_number - 1) % 18 + 1 )) \n",
    "    echo \"$line\" >> \"group_${group_number}.csv\"\n",
    "done < \"LCP_22-23_students.csv\""
   ]
  },
  {
   "cell_type": "markdown",
   "id": "1d730d21",
   "metadata": {},
   "source": [
    "### Ex 2"
   ]
  },
  {
   "cell_type": "markdown",
   "id": "4b87ecb7",
   "metadata": {},
   "source": [
    "2.a Make a copy of the file `data.csv` removing the metadata and the commas between numbers; call it `data.txt`"
   ]
  },
  {
   "cell_type": "code",
   "execution_count": null,
   "id": "887d3ad8",
   "metadata": {},
   "outputs": [],
   "source": [
    "cp /.../data.csv\n",
    "grep -v \"^#\" data.csv | sed \"s/,/ /g\" > data.txt"
   ]
  },
  {
   "cell_type": "markdown",
   "id": "344048c8",
   "metadata": {},
   "source": [
    "2\\.b How many even numbers are there?"
   ]
  },
  {
   "cell_type": "code",
   "execution_count": null,
   "id": "5e97a56f",
   "metadata": {},
   "outputs": [],
   "source": [
    "awk '{for(i=1; i<=NF; i++) if($i % 2 == 0) count++} END {print count}' data.txt"
   ]
  },
  {
   "cell_type": "markdown",
   "id": "2a27138d",
   "metadata": {},
   "source": [
    "2\\.c Distinguish the entries on the basis of `sqrt(X^2 + Y^2 + Z^2)` is greater or smaller than `100*sqrt(3)/2`. Count the entries of each of the two groups "
   ]
  },
  {
   "cell_type": "code",
   "execution_count": null,
   "id": "c58b6ac5",
   "metadata": {},
   "outputs": [],
   "source": [
    "awk '{\n",
    "    if (sqrt($1^2 + $2^2 + $3^2) > 100*sqrt(3)/2) greater++\n",
    "    else smaller++\n",
    "} END {\n",
    "    print \"Greater: \" greater;\n",
    "    print \"Smaller: \" smaller\n",
    "}' data.txt"
   ]
  },
  {
   "cell_type": "markdown",
   "id": "e937ef4e",
   "metadata": {},
   "source": [
    "2\\.d Make `n` copies of data.txt (with `n` an input parameter of the script), where the i-th copy has all the numbers divided by i (with `1<=i<=n`)."
   ]
  },
  {
   "cell_type": "code",
   "execution_count": null,
   "id": "d9a630f3",
   "metadata": {},
   "outputs": [],
   "source": [
    "nano generate_copies.sh\n",
    "\n",
    "n=$1\n",
    "\n",
    "for (( i=1; i<=n; i++ )); do\n",
    "    awk '{\n",
    "        for (j=1; j<=NF; j++) {\n",
    "            printf \"%.2f \", $j/'\"$i\"'\n",
    "        }\n",
    "        printf \"\\n\"\n",
    "    }' data.txt > \"data_copy_$i.txt\"\n",
    "done\n",
    "\n",
    "ctrl+x y invio\n",
    "\n",
    "chmod +x generate_copies.sh\n",
    "\n",
    "./generate_copies.sh 5"
   ]
  }
 ],
 "metadata": {
  "kernelspec": {
   "display_name": "Python 3 (ipykernel)",
   "language": "python",
   "name": "python3"
  },
  "language_info": {
   "codemirror_mode": {
    "name": "ipython",
    "version": 3
   },
   "file_extension": ".py",
   "mimetype": "text/x-python",
   "name": "python",
   "nbconvert_exporter": "python",
   "pygments_lexer": "ipython3",
   "version": "3.11.4"
  }
 },
 "nbformat": 4,
 "nbformat_minor": 5
}
