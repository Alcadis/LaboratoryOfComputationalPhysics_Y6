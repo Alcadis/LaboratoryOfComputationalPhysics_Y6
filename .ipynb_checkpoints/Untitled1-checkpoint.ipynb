{
 "cells": [
  {
   "cell_type": "code",
   "execution_count": null,
   "id": "a7a36064",
   "metadata": {},
   "outputs": [],
   "source": [
    "#1\n",
    "def f(x):\n",
    "    return (np.sin(1/(x*(2-x))))**2\n",
    "\n",
    "N=100000\n",
    "hits=0\n",
    "for i in range(N):\n",
    "    x=np.random.random()\n",
    "    y=np.random.random()\n",
    "    if y<f(x): hits+=1\n",
    "I=2*hits/N\n",
    "print(\"Integral by Monte-Carlo method: \",I)\n",
    "\n",
    "#2\n",
    "N=100000\n",
    "x = np.random.uniform(size=N)\n",
    "a = 0\n",
    "b = 2\n",
    "L = ((b-a)/N)*sum(f(x))\n",
    "print(\"Integral by Mean value method\",L)"
   ]
  }
 ],
 "metadata": {
  "kernelspec": {
   "display_name": "Python 3 (ipykernel)",
   "language": "python",
   "name": "python3"
  },
  "language_info": {
   "codemirror_mode": {
    "name": "ipython",
    "version": 3
   },
   "file_extension": ".py",
   "mimetype": "text/x-python",
   "name": "python",
   "nbconvert_exporter": "python",
   "pygments_lexer": "ipython3",
   "version": "3.11.4"
  }
 },
 "nbformat": 4,
 "nbformat_minor": 5
}
